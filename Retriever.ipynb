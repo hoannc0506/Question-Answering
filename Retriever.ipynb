{
 "cells": [
  {
   "cell_type": "code",
   "execution_count": 1,
   "metadata": {},
   "outputs": [],
   "source": [
    "import os\n",
    "os.environ[\"CUDA_VISIBLE_DEVICES\"]=\"0\""
   ]
  },
  {
   "cell_type": "code",
   "execution_count": 2,
   "metadata": {},
   "outputs": [],
   "source": [
    "import numpy as np\n",
    "import torch\n",
    "import faiss\n",
    "from datasets import load_dataset\n",
    "from tqdm.auto import tqdm\n",
    "\n",
    "device = torch.device(\"cuda\") if torch.cuda.is_available() else torch.device(\"cpu\")"
   ]
  },
  {
   "cell_type": "code",
   "execution_count": 3,
   "metadata": {},
   "outputs": [],
   "source": [
    "from config import QAConfig\n",
    "from data_utils import SquadDataProcessor \n",
    "from retriever import TextEncoder"
   ]
  },
  {
   "cell_type": "code",
   "execution_count": 4,
   "metadata": {},
   "outputs": [],
   "source": [
    "cfg = QAConfig()\n",
    "data_processor = SquadDataProcessor(cfg)"
   ]
  },
  {
   "cell_type": "markdown",
   "metadata": {},
   "source": [
    "## Load data"
   ]
  },
  {
   "cell_type": "code",
   "execution_count": 5,
   "metadata": {},
   "outputs": [
    {
     "name": "stdout",
     "output_type": "stream",
     "text": [
      "Processing train data\n"
     ]
    }
   ],
   "source": [
    "raw_train_dataset = load_dataset(cfg.DATASET_NAME, split =\"train[:5%]\", num_proc=cfg.NUM_PROC)\n",
    "train_data = data_processor.process_data(raw_train_dataset, data_type=\"train\")"
   ]
  },
  {
   "cell_type": "code",
   "execution_count": 6,
   "metadata": {},
   "outputs": [
    {
     "name": "stdout",
     "output_type": "stream",
     "text": [
      "freezing distilbert-base-uncased parameters\n"
     ]
    }
   ],
   "source": [
    "MODEL_NAME = \"distilbert-base-uncased\"\n",
    "text_encoder = TextEncoder(MODEL_NAME)"
   ]
  },
  {
   "cell_type": "markdown",
   "metadata": {},
   "source": [
    "## Create question embedding for similarity search"
   ]
  },
  {
   "cell_type": "code",
   "execution_count": 7,
   "metadata": {},
   "outputs": [
    {
     "data": {
      "application/vnd.jupyter.widget-view+json": {
       "model_id": "e1972a7cbf3644ee86539182900c768e",
       "version_major": 2,
       "version_minor": 0
      },
      "text/plain": [
       "Map:   0%|          | 0/6516 [00:00<?, ? examples/s]"
      ]
     },
     "metadata": {},
     "output_type": "display_data"
    }
   ],
   "source": [
    "# Convert to numpy array (required for HF Datasets)\n",
    "EMBEDDING_COLUMN = 'question_embedding'\n",
    "embeddings_dataset = raw_train_dataset.map(\n",
    "    lambda x: {EMBEDDING_COLUMN: text_encoder.get_embeddings(x['question']).detach().cpu().numpy()},\n",
    "    batched=True\n",
    ")"
   ]
  },
  {
   "cell_type": "markdown",
   "metadata": {},
   "source": [
    "## Initialize FAISS Index"
   ]
  },
  {
   "cell_type": "code",
   "execution_count": 8,
   "metadata": {},
   "outputs": [
    {
     "data": {
      "application/vnd.jupyter.widget-view+json": {
       "model_id": "dc233b555a494496ae51281666de643f",
       "version_major": 2,
       "version_minor": 0
      },
      "text/plain": [
       "  0%|          | 0/7 [00:00<?, ?it/s]"
      ]
     },
     "metadata": {},
     "output_type": "display_data"
    },
    {
     "data": {
      "text/plain": [
       "Dataset({\n",
       "    features: ['id', 'title', 'context', 'question', 'answers', 'question_embedding'],\n",
       "    num_rows: 6516\n",
       "})"
      ]
     },
     "execution_count": 8,
     "metadata": {},
     "output_type": "execute_result"
    }
   ],
   "source": [
    "# create faiss index\n",
    "embeddings_dataset.add_faiss_index(column=EMBEDDING_COLUMN)"
   ]
  },
  {
   "cell_type": "markdown",
   "metadata": {},
   "source": [
    "## Sample search"
   ]
  },
  {
   "cell_type": "code",
   "execution_count": 9,
   "metadata": {},
   "outputs": [
    {
     "data": {
      "text/plain": [
       "(1, 768)"
      ]
     },
     "execution_count": 9,
     "metadata": {},
     "output_type": "execute_result"
    }
   ],
   "source": [
    "# similarity search\n",
    "question = 'When did Beyonce start becoming popular?'\n",
    "\n",
    "input_quest_embedding = text_encoder.get_embeddings([question]).cpu().detach().numpy()\n",
    "input_quest_embedding.shape"
   ]
  },
  {
   "cell_type": "code",
   "execution_count": 10,
   "metadata": {},
   "outputs": [],
   "source": [
    "TOP_K = 5\n",
    "scores, samples = embeddings_dataset.get_nearest_examples(\n",
    "    EMBEDDING_COLUMN, input_quest_embedding, k=TOP_K\n",
    ")"
   ]
  },
  {
   "cell_type": "code",
   "execution_count": 11,
   "metadata": {},
   "outputs": [
    {
     "name": "stdout",
     "output_type": "stream",
     "text": [
      "Top 1\tScore: 1.287664141980116e-10\n",
      "Question: When did Beyonce start becoming popular?\n",
      "Answer: {'text': ['in the late 1990s'], 'answer_start': [269]}\n",
      "\n",
      "Top 2\tScore: 2.613532066345215\n",
      "Question: When did Beyoncé rise to fame?\n",
      "Answer: {'text': ['late 1990s'], 'answer_start': [276]}\n",
      "\n",
      "Top 3\tScore: 4.859475135803223\n",
      "Question: When did Beyoncé release Formation?\n",
      "Answer: {'text': ['February 6, 2016'], 'answer_start': [3]}\n",
      "\n",
      "Top 4\tScore: 5.054233074188232\n",
      "Question: In which decade did Beyonce become famous?\n",
      "Answer: {'text': ['late 1990s'], 'answer_start': [276]}\n",
      "\n",
      "Top 5\tScore: 5.170374393463135\n",
      "Question: When did Beyonce begin her deals with name brands?\n",
      "Answer: {'text': ['since the age of 18'], 'answer_start': [433]}\n",
      "\n"
     ]
    }
   ],
   "source": [
    "for idx, score in enumerate(scores):\n",
    "    print(f'Top {idx + 1}\\tScore: {score}')\n",
    "    print(f'Question: {samples[\"question\"][idx]}')\n",
    "    # print(f'Context: {samples[\"context\"][idx]}')\n",
    "    print(f'Answer: {samples[\"answers\"][idx]}')\n",
    "    print()"
   ]
  }
 ],
 "metadata": {
  "kernelspec": {
   "display_name": "Python 3 (ipykernel)",
   "language": "python",
   "name": "python3"
  },
  "language_info": {
   "codemirror_mode": {
    "name": "ipython",
    "version": 3
   },
   "file_extension": ".py",
   "mimetype": "text/x-python",
   "name": "python",
   "nbconvert_exporter": "python",
   "pygments_lexer": "ipython3",
   "version": "3.10.14"
  }
 },
 "nbformat": 4,
 "nbformat_minor": 4
}
